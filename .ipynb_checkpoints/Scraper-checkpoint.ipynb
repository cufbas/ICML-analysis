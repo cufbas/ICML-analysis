{
 "cells": [
  {
   "cell_type": "markdown",
   "id": "767ef790-dd7e-424d-8b74-55ff80ef6a14",
   "metadata": {},
   "source": [
    "## Notes\n",
    "There's a pattern of workshop data from year 2017 to 2022, can be scraped by incrementing the year in the following url:\n",
    "https://icml.cc/Conferences/2017/Schedule?type=Workshop - https://icml.cc/Conferences/2022/Schedule?type=Workshop"
   ]
  },
  {
   "cell_type": "code",
   "execution_count": 12,
   "id": "a5de133f-77a3-4b56-b5ef-7239f9832c73",
   "metadata": {},
   "outputs": [],
   "source": [
    "import requests\n",
    "from bs4 import BeautifulSoup as bs"
   ]
  },
  {
   "cell_type": "code",
   "execution_count": 17,
   "id": "7330d160-99d9-4190-9a4a-6616b17297a6",
   "metadata": {},
   "outputs": [
    {
     "ename": "SyntaxError",
     "evalue": "expected ':' (3116934525.py, line 3)",
     "output_type": "error",
     "traceback": [
      "\u001b[0;36m  Cell \u001b[0;32mIn [17], line 3\u001b[0;36m\u001b[0m\n\u001b[0;31m    for year in range(16,22)\u001b[0m\n\u001b[0m                            ^\u001b[0m\n\u001b[0;31mSyntaxError\u001b[0m\u001b[0;31m:\u001b[0m expected ':'\n"
     ]
    }
   ],
   "source": [
    "URL = 'https://icml.cc/Conferences/20{year}/Schedule?type=Workshop'\n",
    "\n",
    "for year in range(16,22):\n",
    "    \n",
    "    req = requests.get(URL)\n",
    "    soup = bs(req.text, 'html.parser')\n",
    "      \n",
    "    titles = soup.find_all('div',attrs = {'class','maincardBody'})\n",
    "  \n",
    "    print(titles)"
   ]
  }
 ],
 "metadata": {
  "kernelspec": {
   "display_name": "Python 3 (ipykernel)",
   "language": "python",
   "name": "python3"
  },
  "language_info": {
   "codemirror_mode": {
    "name": "ipython",
    "version": 3
   },
   "file_extension": ".py",
   "mimetype": "text/x-python",
   "name": "python",
   "nbconvert_exporter": "python",
   "pygments_lexer": "ipython3",
   "version": "3.10.4"
  }
 },
 "nbformat": 4,
 "nbformat_minor": 5
}
